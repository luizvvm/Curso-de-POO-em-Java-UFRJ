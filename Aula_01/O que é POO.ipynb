{
 "cells": [
  {
   "cell_type": "markdown",
   "id": "5c2396ad-aed0-40d4-ae8a-0543f6f8c5a1",
   "metadata": {},
   "source": [
    "# Do Estruturado à Orientação a Objetos: Uma Nova Forma de Pensar\n",
    "\n",
    "Antes de mergulharmos de cabeça na **Programação Orientada a Objetos (POO)** em Java, é fundamental entender onde começamos. A forma como organizamos nossos programas evoluiu ao longo do tempo, e compreender o paradigma anterior nos ajuda a entender as vantagens da POO.\n",
    "\n",
    "## O Ponto de Partida: Programação Estruturada\n",
    "\n",
    "A **Programação Estruturada** em sí foi um grande avanço. Ela nos ensinou a organizar o código de forma lógica e legível.\n",
    "\n",
    "A ideia central era:\n",
    "\n",
    "**Dividir um problema complexo em problemas menores, representados por funções.**\n",
    "\n",
    "Nesse cenário, tínhamos uma separação clara:\n",
    "\n",
    "* **Dados:** As informações do nosso programa (números, textos, estruturas de dados).\n",
    "* **Funções:** Sequências de instruções que pegavam esses dados, os manipulavam e produziam um resultado.\n",
    "\n",
    "Este modelo funciona, mas em sistemas grandes, ter dados e funções espalhados pode gerar complexidade e dificuldade de manutenção. E se precisarmos adicionar uma nova regra de cálculo? Ou um novo tipo de dado? É aqui que entra a POO."
   ]
  },
  {
   "cell_type": "code",
   "execution_count": 4,
   "id": "ada57dea-8a5a-4b6c-91d3-60df1db0789f",
   "metadata": {},
   "outputs": [
    {
     "name": "stdout",
     "output_type": "stream",
     "text": [
      "A média é:8.95\n"
     ]
    }
   ],
   "source": [
    "//Exemplo de programação estruturada\n",
    "String Aluno = \"Luiz Vitor\";\n",
    "double nota1 = 8.7;\n",
    "double nota2 = 9.2;\n",
    "\n",
    "public double calcularMedia(double n1, double n2){\n",
    "    return (n1 + n2)/2;\n",
    "}\n",
    "\n",
    "double media_Luiz = calcularMedia(nota1, nota2);\n",
    "System.out.println(\"A média é:\" + media_Luiz);"
   ]
  },
  {
   "cell_type": "markdown",
   "id": "7e1b972a-5491-4cc1-a870-462890539ba9",
   "metadata": {},
   "source": [
    "## Programação Orientada a Objetos (POO)\n",
    "\n",
    "Na POO, em vez de separar dados e funções, ela os une em um conceito central: o **Objeto**. Vamos entender isso bem, não se preocupe em aprender rapidamente os conceitos abaixos, ao longo do curso passaremos detalhadamente por cada um deles e muito mais, isso é só para dar um gostinha do que é a POO.\n",
    "\n",
    "### Do mundo real pro código\n",
    "\n",
    "**\"Objetos codificam uma melhor abstração de diversos problemas do mundo real\"**\n",
    "\n",
    "Esta é a principal motivação da POO. Pense em qualquer coisa do mundo: um carro, uma pessoa, uma conta bancária. Todos eles têm duas coisas:\n",
    "\n",
    "1.  **Características/Atributos:** Um carro tem cor, marca, velocidade atual. Uma conta tem um número, um saldo, um titular. (Estes são os **dados**).\n",
    "2.  **Ações/Comportamentos:** Um carro pode acelerar, frear, ligar. Uma conta pode sacar, depositar, verificar saldo. (Estas são as **funções**).\n",
    "\n",
    "Em POO, um **objeto** é a representação computacional dessa entidade do mundo real, unindo seus atributos e comportamentos em um só lugar.\n",
    "\n",
    "### Não há Manipulação Direta\n",
    "\n",
    "**\"Funções não manipulam os dados diretamente, mas sim objetos\"**\n",
    "\n",
    "Isso representa o conceito de **Encapsulamento**. Os dados (atributos) de um objeto são \"protegidos\" por ele mesmo. O mundo exterior não pode (ou não deveria) modificá-los diretamente.\n",
    "\n",
    "Em vez disso, nós pedimos ao objeto para realizar uma ação (chamamos um de seus **métodos**), e o objeto decide como e se seus dados internos serão alterados. Exemplo:\n",
    "\n",
    "* **Antes (Estruturado):** `aumentarSalario(dados_do_funcionario, 500);`\n",
    "* **Agora (POO):** `funcionario.aumentarSalario(500);`\n",
    "\n",
    "Na versão POO, enviamos uma \"mensagem\" ao objeto `funcionario`, pedindo que ele execute a ação `aumentarSalario`. A lógica de como o salário é aumentado está dentro do próprio objeto, protegendo a integridade dos seus dados.\n",
    "\n",
    "### Os objetos \"coexistem\"\n",
    "\n",
    "**\"Programação não sequencial\"**\n",
    "* *Em uma mesma execução, podem existir objetos diferentes com dados diferentes*\n",
    "* *O conjunto de dados distribui-se entre os objetos*\n",
    "\n",
    "\"Não sequencial\" aqui não significa que o código é executado fora de ordem. Significa que um programa POO é uma simulação de vários objetos independentes existindo e interagindo ao mesmo tempo.\n",
    "\n",
    "A partir de um \"molde\" chamado **Classe** (ex: `class Carro`), podemos criar várias **instâncias** (objetos) independentes."
   ]
  },
  {
   "cell_type": "code",
   "execution_count": 5,
   "id": "89c2edf5-8e57-4049-8247-d58ba1a0029d",
   "metadata": {},
   "outputs": [
    {
     "name": "stdout",
     "output_type": "stream",
     "text": [
      "VW ligado!\n",
      "Chevrolet ligado!\n"
     ]
    }
   ],
   "source": [
    "// A Classe é o molde\n",
    "class Carro {\n",
    "    String cor;\n",
    "    String marca;\n",
    "    \n",
    "    void ligar() {\n",
    "        System.out.println(this.marca + \" ligado!\");\n",
    "    }\n",
    "}\n",
    "\n",
    "// A partir do molde, criamos objetos (instâncias)\n",
    "Carro meuFusca = new Carro();\n",
    "meuFusca.cor = \"Azul\";\n",
    "meuFusca.marca = \"VW\";\n",
    "\n",
    "Carro seuOnix = new Carro();\n",
    "seuOnix.cor = \"Preto\";\n",
    "seuOnix.marca = \"Chevrolet\";\n",
    "\n",
    "// Temos dois objetos diferentes, com dados diferentes, coexistindo.\n",
    "// Os dados (cor, marca) estão distribuídos e encapsulados em cada objeto.\n",
    "meuFusca.ligar();  \n",
    "seuOnix.ligar();"
   ]
  },
  {
   "cell_type": "markdown",
   "id": "d602e289-00b9-4f4f-ac0b-fa42abc17979",
   "metadata": {},
   "source": [
    "### Interação e Colaboração\n",
    "\n",
    "**\"Objetos podem interagir com outros objetos\"**\n",
    "\n",
    "Um sistema complexo é construído a partir da colaboração entre objetos. Eles se comunicam enviando mensagens uns aos outros (ou seja, chamando os métodos uns dos outros).\n",
    "\n",
    "Um objeto `Motorista` pode interagir com um objeto `Carro` chamando o método `carro.dirigir()`. O objeto `Carro`, por sua vez, pode interagir com seu objeto `Motor` interno, chamando `motor.injetarCombustivel()`. É essa rede de interações que dá vida ao software.\n"
   ]
  },
  {
   "cell_type": "markdown",
   "id": "a96a8474-1135-456c-b412-9c9561fa809e",
   "metadata": {},
   "source": [
    "## conclusão\n",
    "\n",
    "Ao longo desse curso vamos entender a fundo a Programação Orientada a Objetos e a linguagem Java. Para isso, recomendo como estudos que você, após as aulas teóricas, realiza os exércicios referentes a mesma."
   ]
  }
 ],
 "metadata": {
  "kernelspec": {
   "display_name": "Java",
   "language": "java",
   "name": "java"
  },
  "language_info": {
   "codemirror_mode": "java",
   "file_extension": ".jshell",
   "mimetype": "text/x-java-source",
   "name": "Java",
   "pygments_lexer": "java",
   "version": "11.0.1-internal+0-adhoc..src"
  }
 },
 "nbformat": 4,
 "nbformat_minor": 5
}
